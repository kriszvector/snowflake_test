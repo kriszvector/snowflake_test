{
 "metadata": {
  "kernelspec": {
   "display_name": "Streamlit Notebook",
   "name": "streamlit"
  }
 },
 "nbformat_minor": 5,
 "nbformat": 4,
 "cells": [
  {
   "cell_type": "code",
   "id": "f4dd14ad-dbc1-4ed1-9389-fc207278ff20",
   "metadata": {
    "language": "sql",
    "name": "cell1",
    "collapsed": false,
    "resultHeight": 111
   },
   "outputs": [],
   "source": "select 1;",
   "execution_count": null
  }
 ]
}