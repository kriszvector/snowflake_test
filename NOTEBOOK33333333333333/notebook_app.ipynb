{
 "metadata": {
  "kernelspec": {
   "display_name": "Streamlit Notebook",
   "name": "streamlit"
  }
 },
 "nbformat_minor": 5,
 "nbformat": 4,
 "cells": [
  {
   "cell_type": "code",
   "id": "10555cae-6372-4321-806a-f6b8d5bc24cf",
   "metadata": {
    "language": "sql",
    "name": "cell1",
    "collapsed": false,
    "resultHeight": 111
   },
   "outputs": [],
   "source": "select 'blablablalbal'",
   "execution_count": null
  }
 ]
}